{
 "cells": [
  {
   "cell_type": "markdown",
   "id": "6938652b-f56e-4e61-b059-86fb42d6c7d6",
   "metadata": {
    "tags": []
   },
   "source": [
    "Data Science Tools and Ecosystem"
   ]
  },
  {
   "cell_type": "markdown",
   "id": "4dd04d21-82e6-4ebf-b9fe-70ca77faddae",
   "metadata": {},
   "source": [
    "**Objectives:**\n"
   ]
  },
  {
   "cell_type": "markdown",
   "id": "194dca9d-32c5-45fc-8988-3538500aae40",
   "metadata": {},
   "source": [
    "* Create a Jupyter Notebook\n",
    "* Create markdown cell with title of the notebook\n",
    "* Create a markdown cell for an introduction\n",
    "* Create a markdown cell to list data science languages\n",
    "* Create a markdown cell to list data science libraries"
   ]
  },
  {
   "cell_type": "markdown",
   "id": "18ef5796-9fb8-4db2-bc5e-1d6472e95083",
   "metadata": {
    "tags": []
   },
   "source": [
    "In this notebook, Data Science Tools and Ecosystem are summarized."
   ]
  },
  {
   "cell_type": "markdown",
   "id": "d0ff5bfd-9fc5-4ea2-bd6f-4650dcd565c6",
   "metadata": {},
   "source": [
    "Some of the popular languages that Data Scientists use are:"
   ]
  },
  {
   "cell_type": "markdown",
   "id": "b3dc32c6-c6ec-47cd-b69a-1b489853d622",
   "metadata": {},
   "source": [
    "1. PYTHON\n",
    "2. JULIA\n",
    "3. R\n",
    "4. SQL DATA BASES\n",
    "5. JAVA\n"
   ]
  },
  {
   "cell_type": "markdown",
   "id": "f5f25b43-b574-47fe-b30d-8756a6d9cc39",
   "metadata": {},
   "source": [
    "Some of the commonly used libraries used by Data Scientists include:"
   ]
  },
  {
   "cell_type": "markdown",
   "id": "63097241-113e-4531-b40c-0028c264da40",
   "metadata": {},
   "source": [
    "1. Pandas\n",
    "2. scypy\n",
    "3. keras"
   ]
  },
  {
   "cell_type": "markdown",
   "id": "e049a993-e53e-4f57-9c27-c37ecb1a1818",
   "metadata": {},
   "source": [
    "| Data Science Tools       |\n",
    "|--------------------------|\n",
    "| Jupyter NotebooK|\n",
    "| RStudio         |\n",
    "| VS CODE         |\n"
   ]
  },
  {
   "cell_type": "markdown",
   "id": "03be506d-559a-41da-b54a-7584f519d3f4",
   "metadata": {},
   "source": [
    "### Below are a few examples of evaluating arithmetic expressions in Python"
   ]
  },
  {
   "cell_type": "markdown",
   "id": "b7f7919e-bb18-4058-a049-48cd9c8552c5",
   "metadata": {},
   "source": [
    "This a simple arithmetic expression to mutiply then add integers."
   ]
  },
  {
   "cell_type": "code",
   "execution_count": 6,
   "id": "23c77202-7ced-4a41-80c6-22feb5ebe7c5",
   "metadata": {
    "tags": []
   },
   "outputs": [
    {
     "data": {
      "text/plain": [
       "17"
      ]
     },
     "execution_count": 6,
     "metadata": {},
     "output_type": "execute_result"
    }
   ],
   "source": [
    "(3*4)+5"
   ]
  },
  {
   "cell_type": "markdown",
   "id": "61ffe809-826d-4641-ab69-fabf8f7b63b1",
   "metadata": {},
   "source": [
    "This will convert 200 minutes to hours by diving by 60"
   ]
  },
  {
   "cell_type": "code",
   "execution_count": 7,
   "id": "2ea2b997-05ce-438c-a86d-55f8fe4f35dc",
   "metadata": {
    "tags": []
   },
   "outputs": [
    {
     "data": {
      "text/plain": [
       "3.3333333333333335"
      ]
     },
     "execution_count": 7,
     "metadata": {},
     "output_type": "execute_result"
    }
   ],
   "source": [
    "200/60"
   ]
  },
  {
   "cell_type": "markdown",
   "id": "e7a5baa1-3a05-49d2-bded-155683cda85c",
   "metadata": {},
   "source": [
    "**Author**"
   ]
  },
  {
   "cell_type": "markdown",
   "id": "b2412585-cc46-4d84-bfed-21bf6f9f8a28",
   "metadata": {},
   "source": [
    "Ricardo Alexander "
   ]
  },
  {
   "cell_type": "code",
   "execution_count": null,
   "id": "ab7e010e-149f-4e5e-afd3-b49230f6ebf5",
   "metadata": {},
   "outputs": [],
   "source": []
  }
 ],
 "metadata": {
  "kernelspec": {
   "display_name": "Python",
   "language": "python",
   "name": "conda-env-python-py"
  },
  "language_info": {
   "codemirror_mode": {
    "name": "ipython",
    "version": 3
   },
   "file_extension": ".py",
   "mimetype": "text/x-python",
   "name": "python",
   "nbconvert_exporter": "python",
   "pygments_lexer": "ipython3",
   "version": "3.7.12"
  }
 },
 "nbformat": 4,
 "nbformat_minor": 5
}
